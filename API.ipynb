{
  "nbformat": 4,
  "nbformat_minor": 0,
  "metadata": {
    "colab": {
      "provenance": [],
      "authorship_tag": "ABX9TyN9mhE68lIwCOeZet7Pvz5o",
      "include_colab_link": true
    },
    "kernelspec": {
      "name": "python3",
      "display_name": "Python 3"
    },
    "language_info": {
      "name": "python"
    }
  },
  "cells": [
    {
      "cell_type": "markdown",
      "metadata": {
        "id": "view-in-github",
        "colab_type": "text"
      },
      "source": [
        "<a href=\"https://colab.research.google.com/github/Babyfinger03/CareerVerse/blob/main/Daanish.ipynb\" target=\"_parent\"><img src=\"https://colab.research.google.com/assets/colab-badge.svg\" alt=\"Open In Colab\"/></a>"
      ]
    },
    {
      "cell_type": "code",
      "execution_count": null,
      "metadata": {
        "id": "JdIzObiz72P4"
      },
      "outputs": [],
      "source": [
        "!pip install matplotlib\n",
        "!pip install graphviz\n"
      ]
    },
    {
      "cell_type": "code",
      "source": [
        "import requests\n",
        "import matplotlib.pyplot as plt\n",
        "import graphviz\n",
        "import json\n",
        "import graphviz\n",
        "from IPython.display import Image, display\n",
        "from PIL import Image as PILImage\n",
        "from io import BytesIO\n",
        "from google.colab import files\n",
        "from PIL import Image as PILImage\n",
        "import matplotlib.pyplot as plt"
      ],
      "metadata": {
        "id": "qsMMmDdI8AQn"
      },
      "execution_count": null,
      "outputs": []
    },
    {
      "cell_type": "code",
      "source": [
        "pip install Flask\n"
      ],
      "metadata": {
        "id": "EcyVG2lU8ceB"
      },
      "execution_count": null,
      "outputs": []
    },
    {
      "cell_type": "code",
      "source": [
        "def get_user_inputs():\n",
        "    # Sample inputs from user\n",
        "    career = input(\"Enter career profession: \")  # e.g., Pilot\n",
        "    age = int(input(\"Enter your age: \"))  # e.g., 20\n",
        "    country = input(\"Enter your country: \")  # e.g., India\n",
        "    financial_status = input(\"Enter your financial condition (Struggling, Living paycheck, etc.): \")\n",
        "    qualification = input(\"Enter your qualification: \")  # e.g., BSc. Zoology\n",
        "    dedication = input(\"Enter dedication level (low, medium, high): \")  # e.g., medium\n",
        "\n",
        "    return {\n",
        "        \"career\": career,\n",
        "        \"age\": age,\n",
        "        \"country\": country,\n",
        "        \"financial_status\": financial_status,\n",
        "        \"qualification\": qualification,\n",
        "        \"dedication\": dedication\n",
        "    }\n"
      ],
      "metadata": {
        "id": "J19rEMNc8mAv"
      },
      "execution_count": null,
      "outputs": []
    },
    {
      "cell_type": "code",
      "source": [
        "def get_roadmap_data(career, age, country, financial_status, qualification, dedication):\n",
        "    # For now, we're returning a mocked response.\n",
        "    # You can replace this with real API calls to external sources\n",
        "    return {\n",
        "        \"career\": career,\n",
        "        \"steps\": [\n",
        "            {\"step\": \"Complete relevant flight training\", \"condition\": \"age >= 18 and financial_status != 'Struggling'\"},\n",
        "            {\"step\": \"Get a commercial pilot license\", \"condition\": \"age >= 20\"},\n",
        "            {\"step\": \"Apply to airlines\", \"condition\": \"qualification in ['BSc. Zoology', 'BSc. Physics']\"}\n",
        "        ]\n",
        "    }\n"
      ],
      "metadata": {
        "id": "O1iWsmLF8t3l"
      },
      "execution_count": null,
      "outputs": []
    },
    {
      "cell_type": "code",
      "source": [
        "def create_mind_map(data):\n",
        "    dot = graphviz.Digraph(comment='Career Path Mind Map')\n",
        "\n",
        "    # Add career profession as the root\n",
        "    dot.node('A', f\"Career Path: {data['career']}\")\n",
        "\n",
        "    # Add steps based on conditions\n",
        "    for i, step in enumerate(data[\"steps\"], 1):\n",
        "        dot.node(f\"B{i}\", step['step'])\n",
        "        dot.edge('A', f\"B{i}\")\n",
        "\n",
        "    return dot\n"
      ],
      "metadata": {
        "id": "TGQmFziE8yC5"
      },
      "execution_count": null,
      "outputs": []
    },
    {
      "cell_type": "code",
      "source": [
        "#Choose profestion"
      ],
      "metadata": {
        "id": "_HSNS8oC846t"
      },
      "execution_count": null,
      "outputs": []
    },
    {
      "cell_type": "code",
      "source": [
        "# Function to create the mind map (flowchart) using graphviz\n",
        "def create_mind_map(data):\n",
        "    dot = graphviz.Digraph(comment='Career Path Mind Map')\n",
        "\n",
        "    # Add the career profession as the root node\n",
        "    dot.node('A', f\"Career Path: {data['career']}\")\n",
        "\n",
        "    # Add steps dynamically based on the roadmap data\n",
        "    for i, step in enumerate(data[\"steps\"], 1):\n",
        "        dot.node(f\"B{i}\", step['step'])\n",
        "        dot.edge('A', f\"B{i}\")  # Link each step to the root (career)\n",
        "\n",
        "    return dot\n",
        "\n",
        "# Display the mind map flowchart directly in Google Colab\n",
        "def display_mind_map(dot):\n",
        "    dot.render('career_roadmap', format='png')  # Save the diagram as a PNG file\n",
        "    display(Image('career_roadmap.png'))  # Display the PNG image in Colab\n",
        "\n",
        "# Mock user inputs and roadmap data\n",
        "user_data = {\n",
        "    'career': 'driver',\n",
        "    'age': 20,\n",
        "    'country': 'India',\n",
        "    'financial_status': 'Struggling financially',\n",
        "    'qualification': 'BSc. Zoology',\n",
        "    'dedication': 'medium'\n",
        "}\n",
        "\n",
        "roadmap = {\n",
        "    \"career\": user_data['career'],\n",
        "    \"steps\": [\n",
        "        {\"step\": \"Complete relevant flight training\", \"condition\": \"age >= 18 and financial_status != 'Struggling'\"},\n",
        "        {\"step\": \"Get a commercial pilot license\", \"condition\": \"age >= 20\"},\n",
        "        {\"step\": \"Apply to airlines\", \"condition\": \"qualification in ['BSc. Zoology', 'BSc. Physics']\"},\n",
        "        {\"step\": \"Apply to indigo\", \"condition\": \"qualification in ['BSc. Zoology', 'BSc. Physics']\"}\n",
        "\n",
        "\n",
        "\n",
        "\n",
        "\n",
        "    ]\n",
        "}\n",
        "\n",
        "# Create the mind map based on roadmap data\n",
        "mind_map = create_mind_map(roadmap)\n",
        "\n",
        "# Display the flowchart in the notebook\n",
        "display_mind_map(mind_map)"
      ],
      "metadata": {
        "id": "vkRb4EEh89vg"
      },
      "execution_count": null,
      "outputs": []
    },
    {
      "cell_type": "code",
      "source": [
        "uploaded = files.upload()\n",
        "\n",
        "for file_name in uploaded.keys():\n",
        "    # Load image using PIL\n",
        "    img = PILImage.open(file_name)\n",
        "\n",
        "    plt.imshow(img)\n",
        "    plt.axis('off')\n",
        "    plt.show()\n"
      ],
      "metadata": {
        "id": "yqvpA2hx-PfJ"
      },
      "execution_count": null,
      "outputs": []
    },
    {
      "cell_type": "code",
      "source": [
        "!pip install pyngrok\n"
      ],
      "metadata": {
        "id": "BKtJaYL4_I6q"
      },
      "execution_count": null,
      "outputs": []
    },
    {
      "cell_type": "code",
      "source": [
        "from flask import Flask, request, jsonify\n",
        "from pyngrok import ngrok\n",
        "import requests\n",
        "from PIL import Image as PILImage\n",
        "from io import BytesIO\n",
        "\n",
        "app = Flask(__name__)\n",
        "\n",
        "# Mock data for career roadmaps and counselors\n",
        "career_roadmaps = {\n",
        "    \"Pilot\": {\n",
        "        \"steps\": [\"Get a bachelor's degree\", \"Enroll in a flight school\", \"Log flying hours\", \"Obtain pilot's license\"],\n",
        "        \"image_url\": \"https://www.example.com/pilot_roadmap.jpg\"  # Replace with actual image URL\n",
        "    },\n",
        "    \"Doctor\": {\n",
        "        \"steps\": [\"Complete medical school\", \"Pass medical exams\", \"Gain residency experience\", \"Get licensed\"],\n",
        "        \"image_url\": \"https://www.example.com/doctor_roadmap.jpg\"  # Replace with actual image URL\n",
        "    }\n",
        "}\n",
        "\n",
        "counselors = {\n",
        "    \"Pilot\": {\n",
        "        \"name\": \"John Doe\",\n",
        "        \"contact\": \"+123456789\",\n",
        "        \"image_url\": \"https://www.example.com/pilot_counselor.jpg\"  # Replace with actual image URL\n",
        "    },\n",
        "    \"Doctor\": {\n",
        "        \"name\": \"Jane Smith\",\n",
        "        \"contact\": \"+987654321\",\n",
        "        \"image_url\": \"https://www.example.com/doctor_counselor.jpg\"  # Replace with actual image URL\n",
        "    }\n",
        "}\n",
        "\n",
        "@app.route('/get_roadmap', methods=['POST'])\n",
        "def get_roadmap():\n",
        "    data = request.json\n",
        "    career = data.get('career')\n",
        "\n",
        "    # Fetch career roadmap based on the career choice\n",
        "    roadmap = career_roadmaps.get(career, {\"steps\": [\"No roadmap available\"], \"image_url\": \"\"})\n",
        "\n",
        "    # Return the roadmap as JSON\n",
        "    return jsonify(roadmap)\n",
        "\n",
        "@app.route('/get_counselor', methods=['POST'])\n",
        "def get_counselor():\n",
        "    data = request.json\n",
        "    career = data.get('career')\n",
        "\n",
        "    # Fetch counselor details based on the career choice\n",
        "    counselor = counselors.get(career, {\n",
        "        \"name\": \"General Career Advisor\",\n",
        "        \"contact\": \"+000000000\",\n",
        "        \"image_url\": \"https://www.example.com/general_counselor.jpg\"  # Replace with actual image URL\n",
        "    })\n",
        "\n",
        "    # Return the counselor details as JSON\n",
        "    return jsonify(counselor)\n",
        "\n",
        "@app.route('/get_counselor_image', methods=['GET'])\n",
        "def get_counselor_image():\n",
        "    image_url = request.args.get('image_url')\n",
        "\n",
        "    try:\n",
        "        response = requests.get(image_url)\n",
        "        img = PILImage.open(BytesIO(response.content))\n",
        "        img.show()\n",
        "        return \"Image displayed successfully\"\n",
        "    except Exception as e:\n",
        "        return f\"Failed to load image: {e}\", 400\n"
      ],
      "metadata": {
        "id": "CSCEY7MO_p-d"
      },
      "execution_count": null,
      "outputs": []
    }
  ]
}
